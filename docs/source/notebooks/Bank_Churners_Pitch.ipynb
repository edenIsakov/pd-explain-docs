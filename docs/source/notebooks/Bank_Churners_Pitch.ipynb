{
 "cells": [
  {
   "cell_type": "code",
   "execution_count": 52,
   "metadata": {
    "pycharm": {
     "name": "#%%\n"
    }
   },
   "outputs": [
    {
     "name": "stderr",
     "output_type": "stream",
     "text": [
      "usetex mode requires TeX.\n"
     ]
    },
    {
     "name": "stdout",
     "output_type": "stream",
     "text": [
      "usetex-False\n"
     ]
    }
   ],
   "source": [
    "import matplotlib.pyplot as plt\n",
    "%reload_ext autoreload\n",
    "%autoreload 2\n",
    "import pandas as pd\n",
    "import warnings\n",
    "import pd_explain\n",
    "\n",
    "warnings.filterwarnings(\"ignore\")\n",
    "pd.set_option('display.max_colwidth', 999)\n",
    "pd.set_option('display.max_columns', 999)"
   ]
  },
  {
   "cell_type": "markdown",
   "metadata": {
    "pycharm": {
     "name": "#%% md\n"
    }
   },
   "source": [
    "# Bank Churners Dataset\n",
    "\n",
    "\n",
    "**CLIENTNUM** : Client number. Unique identifier for the customer holding the account\n",
    "\n",
    "**Attrition_Flag :** Internal event (customer activity) variable - if the account is closed then 1 else 0\n",
    "\n",
    "**Dependent_count :** Demographic variable - Number of dependents\n",
    "\n",
    "**Total_Relationship_Count :** Total no. of products held by the customer\n",
    "\n",
    "**Total_Revolving_Bal :** Total Revolving Balance on the Credit Card\n",
    "\n",
    "**Avg_Open_To_Buy :** Open to Buy Credit Line (Average of last 12 months)\n",
    "\n",
    "**Months_on_book :** Period of relationship with bank\n",
    "\n",
    "**Months_Inactive_12_mon :** No. of months inactive in the last 12 months\n",
    "\n",
    "**Contacts_Count_12_mon :** No. of Contacts in the last 12 months\n",
    "\n",
    "**Total_Amt_Chng_Q4_Q1 :** Change in Transaction Amount (Q4 over Q1)\n",
    "\n",
    "**Total_Trans_Amt :** Total Transaction Amount (Last 12 months)\n",
    "\n",
    "**Total_Trans_Ct :** Total Transaction Count (Last 12 months)\n",
    "\n",
    "**Total_Ct_Chng_Q4_Q1 :** Change in Transaction Count (Q4 over Q1)\n",
    "\n",
    "**Avg_Utilization_Ratio :** Average Card Utilization Ratio"
   ]
  },
  {
   "cell_type": "code",
   "execution_count": 53,
   "metadata": {
    "pycharm": {
     "name": "#%%\n"
    }
   },
   "outputs": [],
   "source": [
    "credit_card_customers = pd.read_csv(r\"pd_explain/Datasets/BankChurners.csv\")\n",
    "credit_card_customers = credit_card_customers.drop([\n",
    "    \"Naive_Bayes_Classifier_Attrition_Flag_Card_Category_Contacts_Count_12_mon_Dependent_count_Education_Level_Months_Inactive_12_mon_1\",\n",
    "    \"Naive_Bayes_Classifier_Attrition_Flag_Card_Category_Contacts_Count_12_mon_Dependent_count_Education_Level_Months_Inactive_12_mon_2\",\n",
    "], axis=1)\n",
    "\n",
    "credit_card_customers = credit_card_customers.rename(columns={\n",
    "    \"Total_Relationship_Count\": \"Registered_Products_Count\",\n",
    "    \"Total_Revolving_Bal\": \"Credit_Used\",\n",
    "    \"Avg_Open_To_Buy\": \"Credit_Open_To_Buy\",\n",
    "    \"Months_Inactive_12_mon\": \"Months_Inactive_Count_Last_Year\",\n",
    "    \"Contacts_Count_12_mon\": \"Contacts_Count_Last_Year\",\n",
    "    \"Total_Amt_Chng_Q4_Q1\": \"Total_Amount_Change_Q4_vs_Q1\",\n",
    "    \"Total_Trans_Amt\": \"Total_Transitions_Amount\",\n",
    "    \"Total_Trans_Ct\": \"Total_Transitions_Count\",\n",
    "    \"Total_Ct_Chng_Q4_Q1\": \"Total_Count_Change_Q4_vs_Q1\",\n",
    "    \"Avg_Utilization_Ratio\": \"Credit_Avg_Utilization_Ratio\"\n",
    "})\n",
    "\n",
    "credit_card_customers.to_csv(r\"pd_explain/Datasets/bank_churners_user_study.csv\", index=False)\n"
   ]
  },
  {
   "cell_type": "code",
   "execution_count": null,
   "outputs": [],
   "source": [
    "credit_card_customers.display()"
   ],
   "metadata": {
    "collapsed": false,
    "pycharm": {
     "name": "#%%\n"
    }
   }
  },
  {
   "cell_type": "markdown",
   "source": [
    "# OPERATION #1"
   ],
   "metadata": {
    "collapsed": false,
    "pycharm": {
     "name": "#%% md\n"
    }
   }
  },
  {
   "cell_type": "code",
   "execution_count": null,
   "outputs": [],
   "source": [
    "filter_results = credit_card_customers[credit_card_customers[\"Customer_Age\"] > 45]\n",
    "explains = filter_results.explain(top_k=5, show_scores=True)"
   ],
   "metadata": {
    "collapsed": false,
    "pycharm": {
     "name": "#%%\n"
    }
   }
  },
  {
   "cell_type": "markdown",
   "source": [
    "# OPERATION #2"
   ],
   "metadata": {
    "collapsed": false,
    "pycharm": {
     "name": "#%% md\n"
    }
   }
  },
  {
   "cell_type": "code",
   "execution_count": null,
   "outputs": [],
   "source": [
    "loyal = credit_card_customers[credit_card_customers.Attrition_Flag == \"Existing Customer\"]"
   ],
   "metadata": {
    "collapsed": false,
    "pycharm": {
     "name": "#%%\n"
    }
   }
  },
  {
   "cell_type": "code",
   "execution_count": null,
   "outputs": [],
   "source": [
    "churn = credit_card_customers[credit_card_customers.Attrition_Flag != \"Existing Customer\"]"
   ],
   "metadata": {
    "collapsed": false,
    "pycharm": {
     "name": "#%%\n"
    }
   }
  },
  {
   "cell_type": "code",
   "execution_count": null,
   "outputs": [],
   "source": [
    "x = loyal.Total_Count_Change_Q4_vs_Q1.mean()\n",
    "filter_results_2 = churn[churn[\"Total_Count_Change_Q4_vs_Q1\"] > x]\n",
    "filter_results_2"
   ],
   "metadata": {
    "collapsed": false,
    "pycharm": {
     "name": "#%%\n"
    }
   }
  },
  {
   "cell_type": "code",
   "execution_count": null,
   "outputs": [],
   "source": [
    "figs = filter_results_2.explain(top_k=3, figs_in_row = 3)"
   ],
   "metadata": {
    "collapsed": false,
    "pycharm": {
     "name": "#%%\n"
    }
   }
  },
  {
   "cell_type": "markdown",
   "source": [
    "# OPERATION #3"
   ],
   "metadata": {
    "collapsed": false,
    "pycharm": {
     "name": "#%% md\n"
    }
   }
  },
  {
   "cell_type": "code",
   "execution_count": null,
   "outputs": [],
   "source": [
    "churn"
   ],
   "metadata": {
    "collapsed": false,
    "pycharm": {
     "name": "#%%\n"
    }
   }
  },
  {
   "cell_type": "code",
   "execution_count": null,
   "outputs": [],
   "source": [
    "group_by_decade_result = churn.groupby(by=['Marital_Status', 'Gender', 'Education_Level']).agg(\n",
    "    {\"Credit_Limit\": [\"mean\", \"max\", \"min\"], \"Credit_Used\": [\"mean\", \"median\"]})\n",
    "figs = group_by_decade_result.explain(top_k=2)\n",
    "# start with groups"
   ],
   "metadata": {
    "collapsed": false,
    "pycharm": {
     "name": "#%%\n"
    }
   }
  },
  {
   "cell_type": "code",
   "execution_count": null,
   "outputs": [],
   "source": [
    "figures = group_by_decade_result.explain(top_k=2)"
   ],
   "metadata": {
    "collapsed": false,
    "pycharm": {
     "name": "#%%\n"
    }
   }
  },
  {
   "cell_type": "code",
   "execution_count": null,
   "outputs": [],
   "source": [
    "group_by_decade_result = churn.groupby([\"Marital_Status\", \"Gender\", \"Education_Level\"])['Credit_Used'].mean()\n",
    "\n"
   ],
   "metadata": {
    "collapsed": false,
    "pycharm": {
     "name": "#%%\n"
    }
   }
  },
  {
   "cell_type": "code",
   "execution_count": null,
   "outputs": [],
   "source": [
    "group_by_decade_result"
   ],
   "metadata": {
    "collapsed": false,
    "pycharm": {
     "name": "#%%\n"
    }
   }
  },
  {
   "cell_type": "code",
   "execution_count": null,
   "outputs": [],
   "source": [
    "figs = group_by_decade_result.explain(top_k = 5, show_scores=True)"
   ],
   "metadata": {
    "collapsed": false,
    "pycharm": {
     "name": "#%%\n"
    }
   }
  },
  {
   "cell_type": "markdown",
   "source": [
    "# OPERATION #4"
   ],
   "metadata": {
    "collapsed": false,
    "pycharm": {
     "name": "#%% md\n"
    }
   }
  },
  {
   "cell_type": "code",
   "execution_count": null,
   "outputs": [],
   "source": [
    "from functools import reduce\n",
    "\n",
    "\n",
    "def total_more_then_20(series):\n",
    "    return reduce(lambda x, y: x + 1 if y > 0.2 else x, series, 0)"
   ],
   "metadata": {
    "collapsed": false,
    "pycharm": {
     "name": "#%%\n"
    }
   }
  },
  {
   "cell_type": "code",
   "execution_count": null,
   "outputs": [],
   "source": [
    "group_by_decade_result = churn.groupby(by=['Income_Category', 'Gender', 'Education_Level']).agg(\n",
    "    {\"Credit_Avg_Utilization_Ratio\": ['mean', total_more_then_20]})\n",
    "group_by_decade_result"
   ],
   "metadata": {
    "collapsed": false,
    "pycharm": {
     "name": "#%%\n"
    }
   }
  },
  {
   "cell_type": "code",
   "execution_count": null,
   "outputs": [],
   "source": [
    "group_by_decade_result.explain(show_scores=True)"
   ],
   "metadata": {
    "collapsed": false,
    "pycharm": {
     "name": "#%%\n"
    }
   }
  },
  {
   "cell_type": "markdown",
   "source": [
    "# JOIN EXAMPLE"
   ],
   "metadata": {
    "collapsed": false,
    "pycharm": {
     "name": "#%% md\n"
    }
   }
  },
  {
   "cell_type": "code",
   "execution_count": null,
   "outputs": [],
   "source": [
    "from pd_explain.custom_bins.date_time_bin import bin_datetime\n",
    "from explain_ed.Measures.Bins import Bins\n",
    "\n",
    "products = pd.read_csv(r\"pd_explain\\Datasets\\products.csv\").rename(columns={'item_no': \"item\"})\n",
    "products['list_date'] = pd.to_datetime(products['list_date'], format='%Y-%m-%d %H:%M:%S')\n",
    "sales = pd.read_csv(r\"pd_explain\\Datasets\\sales.csv\")\n",
    "Bins.register_binning_method(bin_datetime, False)\n"
   ],
   "metadata": {
    "collapsed": false,
    "pycharm": {
     "name": "#%%\n"
    }
   }
  },
  {
   "cell_type": "code",
   "execution_count": null,
   "outputs": [],
   "source": [
    "sales"
   ],
   "metadata": {
    "collapsed": false,
    "pycharm": {
     "name": "#%%\n"
    }
   }
  },
  {
   "cell_type": "code",
   "execution_count": null,
   "outputs": [],
   "source": [
    "products"
   ],
   "metadata": {
    "collapsed": false,
    "pycharm": {
     "name": "#%%\n"
    }
   }
  },
  {
   "cell_type": "code",
   "execution_count": null,
   "outputs": [],
   "source": [
    "join_results = products.join(sales, on=['item'], how='inner', lsuffix='_x', rsuffix='_y')"
   ],
   "metadata": {
    "collapsed": false,
    "pycharm": {
     "name": "#%%\n"
    }
   }
  },
  {
   "cell_type": "code",
   "execution_count": null,
   "outputs": [],
   "source": [
    "join_results.explain(top_k=2)\n"
   ],
   "metadata": {
    "collapsed": false,
    "pycharm": {
     "name": "#%%\n"
    }
   }
  },
  {
   "cell_type": "markdown",
   "source": [
    "# Explain use only columns"
   ],
   "metadata": {
    "collapsed": false,
    "pycharm": {
     "name": "#%% md\n"
    }
   }
  },
  {
   "cell_type": "code",
   "execution_count": null,
   "outputs": [],
   "source": [
    "join_results.explain(\n",
    "    attributes=['products_category_name', 'products_vendor', 'sales_county', 'sales_category_name', 'sales_vendor_no',\n",
    "                'sales_vendor', 'sales_pack', 'sales_liter_size', 'sales_state_btl_cost', 'sales_btl_price',\n",
    "                'sales_bottle_qty', 'sales_total'], top_k=3)"
   ],
   "metadata": {
    "collapsed": false,
    "pycharm": {
     "name": "#%%\n"
    }
   }
  },
  {
   "cell_type": "markdown",
   "source": [
    "# Explain ignore columns"
   ],
   "metadata": {
    "collapsed": false,
    "pycharm": {
     "name": "#%% md\n"
    }
   }
  },
  {
   "cell_type": "code",
   "execution_count": null,
   "outputs": [],
   "source": [
    "join_results = products.merge(sales, on=['item'])\n",
    "join_results"
   ],
   "metadata": {
    "collapsed": false,
    "pycharm": {
     "name": "#%%\n"
    }
   }
  },
  {
   "cell_type": "code",
   "execution_count": null,
   "outputs": [],
   "source": [
    "join_results.explain({\"dbl_date\": \"i\", \"dbr_date\": \"i\"})"
   ],
   "metadata": {
    "collapsed": false,
    "pycharm": {
     "name": "#%%\n"
    }
   }
  },
  {
   "cell_type": "code",
   "execution_count": null,
   "outputs": [],
   "source": [],
   "metadata": {
    "collapsed": false,
    "pycharm": {
     "name": "#%%\n"
    }
   }
  }
 ],
 "metadata": {
  "kernelspec": {
   "display_name": "Python 3 (ipykernel)",
   "language": "python",
   "name": "python3"
  },
  "language_info": {
   "codemirror_mode": {
    "name": "ipython",
    "version": 3
   },
   "file_extension": ".py",
   "mimetype": "text/x-python",
   "name": "python",
   "nbconvert_exporter": "python",
   "pygments_lexer": "ipython3",
   "version": "3.9.6"
  }
 },
 "nbformat": 4,
 "nbformat_minor": 2
}